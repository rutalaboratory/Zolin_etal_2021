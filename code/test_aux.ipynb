{
 "cells": [
  {
   "cell_type": "markdown",
   "metadata": {},
   "source": [
    "# Tests of auxiliary functions"
   ]
  },
  {
   "cell_type": "code",
   "execution_count": 1,
   "metadata": {
    "collapsed": true
   },
   "outputs": [],
   "source": [
    "%reset -f\n",
    "%matplotlib inline\n",
    "import numpy as np\n",
    "\n",
    "nan = np.nan"
   ]
  },
  {
   "cell_type": "code",
   "execution_count": 2,
   "metadata": {},
   "outputs": [
    {
     "name": "stdout",
     "output_type": "stream",
     "text": [
      "TESTS PASSED.\n"
     ]
    }
   ],
   "source": [
    "from aux import find_segs\n",
    "\n",
    "x = np.array([0, 0, 1, 1, 1, 0, 1, 0, 1, 1, 0, 1], dtype=bool)\n",
    "\n",
    "segs_desired = np.array([\n",
    "    [2, 5],\n",
    "    [6, 7],\n",
    "    [8, 10],\n",
    "    [11, 12]\n",
    "])\n",
    "\n",
    "segs = find_segs(x)\n",
    "\n",
    "np.testing.assert_array_equal(segs, segs_desired)\n",
    "\n",
    "print('TESTS PASSED.')"
   ]
  },
  {
   "cell_type": "code",
   "execution_count": 3,
   "metadata": {},
   "outputs": [
    {
     "name": "stdout",
     "output_type": "stream",
     "text": [
      "TESTS PASSED.\n"
     ]
    }
   ],
   "source": [
    "from aux import make_extended_predictor_matrix\n",
    "\n",
    "vs = {\n",
    "    'a': np.array([100., 101, 102, 103, 104, 105, 106, 107, 108, 109]),\n",
    "    'b': np.array([200., 201, 202, 203, 204, 205, 206, 207, 208, 209]),\n",
    "    'd': np.array([400., 401, 402, 403, 404, 405, 406, 407, 408, 409]),\n",
    "}\n",
    "\n",
    "windows = {\n",
    "    'a': (-1, 1),\n",
    "    'b': (-2, 3),\n",
    "    'd': (-4, 0),\n",
    "}\n",
    "\n",
    "order = ['a', 'b', 'd']\n",
    "\n",
    "x_extd_desired = np.array([\n",
    "    [nan, 100,   nan, nan, 200, 201, 202,   nan, nan, nan, nan],\n",
    "    [100, 101,   nan, 200, 201, 202, 203,   nan, nan, nan, 400],\n",
    "    [101, 102,   200, 201, 202, 203, 204,   nan, nan, 400, 401],\n",
    "    [102, 103,   201, 202, 203, 204, 205,   nan, 400, 401, 402],\n",
    "    [103, 104,   202, 203, 204, 205, 206,   400, 401, 402, 403],\n",
    "    [104, 105,   203, 204, 205, 206, 207,   401, 402, 403, 404],\n",
    "    [105, 106,   204, 205, 206, 207, 208,   402, 403, 404, 405],\n",
    "    [106, 107,   205, 206, 207, 208, 209,   403, 404, 405, 406],\n",
    "    [107, 108,   206, 207, 208, 209, nan,   404, 405, 406, 407],\n",
    "    [108, 109,   207, 208, 209, nan, nan,   405, 406, 407, 408],\n",
    "])\n",
    "\n",
    "x_extd = make_extended_predictor_matrix(vs, windows, order)\n",
    "\n",
    "np.testing.assert_array_almost_equal(x_extd, x_extd_desired)\n",
    "\n",
    "print('TESTS PASSED.')"
   ]
  },
  {
   "cell_type": "code",
   "execution_count": 4,
   "metadata": {},
   "outputs": [
    {
     "name": "stdout",
     "output_type": "stream",
     "text": [
      "TESTS PASSED\n"
     ]
    }
   ],
   "source": [
    "from aux import split_data\n",
    "\n",
    "x = np.array([\n",
    "    18, 22,  9,  2, 15, 14, 28, 37, 16, 29, nan,\n",
    "    19, 11, 26, 38, 36, 31, 34,  6, 20, 35, nan,\n",
    "    25,  7, 33, 23, 13, 10,  1,  0, 32, 21, nan,\n",
    "    12,  4, 17, 30, 39,  8,  5, 27,  3, 24, nan,\n",
    "], dtype=float)\n",
    "\n",
    "n_bins = 7\n",
    "bounds = [0, 6, 11, 17, 23, 29, 34, 40]\n",
    "\n",
    "masks_desired = [\n",
    "    np.array([\n",
    "        False, False, False,  True, False, False, False, False, False, False, False,\n",
    "        False, False, False, False, False, False, False, False, False, False, False,\n",
    "        False, False, False, False, False, False,  True,  True, False, False, False,\n",
    "        False,  True, False, False, False, False,  True, False,  True, False, False,\n",
    "    ], dtype=bool),\n",
    "    np.array([\n",
    "        False, False,  True, False, False, False, False, False, False, False, False,\n",
    "        False, False, False, False, False, False, False,  True, False, False, False,\n",
    "        False,  True, False, False, False,  True, False, False, False, False, False,\n",
    "        False, False, False, False, False,  True, False, False, False, False, False,\n",
    "    ], dtype=bool),\n",
    "    np.array([\n",
    "        False, False, False, False,  True,  True, False, False,  True, False, False,\n",
    "        False,  True, False, False, False, False, False, False, False, False, False,\n",
    "        False, False, False, False,  True, False, False, False, False, False, False,\n",
    "         True, False, False, False, False, False, False, False, False, False, False,\n",
    "    ], dtype=bool),\n",
    "    np.array([\n",
    "         True,  True, False, False, False, False, False, False, False, False, False,\n",
    "         True, False, False, False, False, False, False, False,  True, False, False,\n",
    "        False, False, False, False, False, False, False, False, False,  True, False,\n",
    "        False, False,  True, False, False, False, False, False, False, False, False,\n",
    "    ], dtype=bool),\n",
    "    np.array([\n",
    "        False, False, False, False, False, False,  True, False, False, False, False,\n",
    "        False, False,  True, False, False, False, False, False, False, False, False,\n",
    "         True, False, False,  True, False, False, False, False, False, False, False,\n",
    "        False, False, False, False, False, False, False,  True, False,  True, False,\n",
    "    ], dtype=bool),\n",
    "    np.array([\n",
    "        False, False, False, False, False, False, False, False, False,  True, False,\n",
    "        False, False, False, False, False,  True, False, False, False, False, False,\n",
    "        False, False,  True, False, False, False, False, False,  True, False, False,\n",
    "        False, False, False,  True, False, False, False, False, False, False, False,\n",
    "    ], dtype=bool),\n",
    "    np.array([\n",
    "        False, False, False, False, False, False, False,  True, False, False, False,\n",
    "        False, False, False,  True,  True, False,  True, False, False,  True, False,\n",
    "        False, False, False, False, False, False, False, False, False, False, False,\n",
    "        False, False, False, False,  True, False, False, False, False, False, False,\n",
    "    ], dtype=bool),\n",
    "]\n",
    "\n",
    "masks_actual = split_data(x, n_bins)\n",
    "\n",
    "for ctr, (mask_actual, mask_desired) in enumerate(zip(masks_actual, masks_desired)):\n",
    "    np.testing.assert_array_equal(mask_actual, mask_desired)\n",
    "    \n",
    "print('TESTS PASSED')"
   ]
  }
 ],
 "metadata": {
  "kernelspec": {
   "display_name": "Python 3",
   "language": "python",
   "name": "python3"
  },
  "language_info": {
   "codemirror_mode": {
    "name": "ipython",
    "version": 3
   },
   "file_extension": ".py",
   "mimetype": "text/x-python",
   "name": "python",
   "nbconvert_exporter": "python",
   "pygments_lexer": "ipython3",
   "version": "3.5.2"
  }
 },
 "nbformat": 4,
 "nbformat_minor": 2
}
